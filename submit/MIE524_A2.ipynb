{
  "cells": [
    {
      "cell_type": "markdown",
      "metadata": {
        "id": "wKfBYIVSfVfk"
      },
      "source": [
        "# MIE524 - Assignment 2\n",
        "Please complete this notebook for Assignment 2."
      ]
    },
    {
      "cell_type": "markdown",
      "metadata": {
        "id": "H55bkAd0TZS0"
      },
      "source": [
        "###Setup"
      ]
    },
    {
      "cell_type": "code",
      "execution_count": null,
      "metadata": {
        "id": "757XypQwTct-"
      },
      "outputs": [],
      "source": [
        "## imports\n",
        "import pandas as pd\n",
        "import numpy as np"
      ]
    },
    {
      "cell_type": "markdown",
      "metadata": {
        "id": "CK4GxCVh3Ma6"
      },
      "source": [
        "## Q1 - Gradient Boosted Trees\n",
        "Complete below code. Please do not change class and function names. You may create additional functions or define additional parameters."
      ]
    },
    {
      "cell_type": "markdown",
      "metadata": {
        "id": "xqt5VPve15ky"
      },
      "source": [
        "### Data"
      ]
    },
    {
      "cell_type": "code",
      "execution_count": null,
      "metadata": {
        "id": "laKTjnUH2HBj"
      },
      "outputs": [],
      "source": [
        "cal_housing_train = pd.read_csv('/content/sample_data/california_housing_train.csv')\n",
        "cal_housing_test = pd.read_csv('/content/sample_data/california_housing_test.csv')"
      ]
    },
    {
      "cell_type": "markdown",
      "metadata": {
        "id": "47tF7xkRJfvt"
      },
      "source": [
        "### Model"
      ]
    },
    {
      "cell_type": "code",
      "execution_count": null,
      "metadata": {
        "id": "SyzQHhuyJntj"
      },
      "outputs": [],
      "source": [
        "# Please use the below square loss for your gradient boosted tree implementation\n",
        "\n",
        "class SquareLoss():\n",
        "    def __init__(self): pass\n",
        "\n",
        "    def loss(self, y, y_pred):\n",
        "        return 0.5 * np.power((y - y_pred), 2)\n",
        "\n",
        "    def gradient(self, y, y_pred):\n",
        "        return -(y - y_pred)"
      ]
    },
    {
      "cell_type": "code",
      "execution_count": null,
      "metadata": {
        "id": "Q5G_Y84l6HkD"
      },
      "outputs": [],
      "source": [
        "from sklearn.tree import DecisionTreeRegressor\n",
        "\n",
        "class my_GradientBoosting(object):\n",
        "    \"\"\"Super class of GradientBoostingClassifier and GradientBoostinRegressor.\n",
        "    Uses a collection of regression trees that trains on predicting the gradient\n",
        "    of the loss function.\n",
        "\n",
        "    Parameters:\n",
        "    -----------\n",
        "    n_estimators: int\n",
        "        The number of classification trees that are used.\n",
        "    learning_rate: float\n",
        "        The step length that will be taken when following the negative gradient during\n",
        "        training.\n",
        "    min_samples_split: int\n",
        "        The minimum number of samples needed to make a split when building a tree.\n",
        "    min_impurity: float\n",
        "        The minimum impurity required to split the tree further.\n",
        "    max_depth: int\n",
        "        The maximum depth of a tree.\n",
        "    regression: boolean\n",
        "        True or false depending on if we're doing regression or classification.\n",
        "    \"\"\"\n",
        "    def __init__(self, n_estimators, learning_rate, min_samples_split,\n",
        "                 min_impurity, max_depth, regression):\n",
        "\n",
        "        # YOUR CODE HERE\n",
        "        self.n_estimators = n_estimators\n",
        "        self.learning_rate = learning_rate\n",
        "        self.min_samples_split = min_samples_split\n",
        "        self.min_impurity = min_impurity\n",
        "        self.max_depth = max_depth\n",
        "        self.regression = regression\n",
        "\n",
        "        self.loss = SquareLoss()\n",
        "        self.trees = []\n",
        "\n",
        "    def fit(self, X, y):\n",
        "        # init the pred with mean val\n",
        "        self.mean_value = np.mean(y)\n",
        "        y_pred = np.full(len(y), self.mean_value)\n",
        "\n",
        "        for _ in range(self.n_estimators):\n",
        "            # negative grad of the loss\n",
        "            gradient = self.loss.gradient(y, y_pred)\n",
        "\n",
        "            # create a decision tree and fit\n",
        "            tree = DecisionTreeRegressor(\n",
        "                max_depth=self.max_depth,\n",
        "                min_samples_split=self.min_samples_split,\n",
        "                min_impurity_decrease=self.min_impurity\n",
        "            )\n",
        "            tree.fit(X, gradient)\n",
        "\n",
        "            # update the pred\n",
        "            update = self.learning_rate * tree.predict(X)\n",
        "            y_pred -= update\n",
        "\n",
        "            # add to the list of trees\n",
        "            self.trees.append(tree)\n",
        "\n",
        "    def predict(self, X):\n",
        "        # init the pred with mean val\n",
        "        y_pred = np.full(X.shape[0], self.mean_value)\n",
        "\n",
        "        # make pred\n",
        "        for tree in self.trees:\n",
        "            update = self.learning_rate * tree.predict(X)\n",
        "            y_pred -= update\n",
        "\n",
        "        return y_pred\n"
      ]
    },
    {
      "cell_type": "code",
      "execution_count": null,
      "metadata": {
        "id": "3dx2tJT_4uJt"
      },
      "outputs": [],
      "source": [
        "class my_GradientBoostingRegressor(my_GradientBoosting):\n",
        "    def __init__(self, n_estimators=200, learning_rate=0.5, min_samples_split=2,\n",
        "                 min_var_red=1e-7, max_depth=4):\n",
        "\n",
        "        # YOUR CODE HERE\n",
        "        super().__init__(n_estimators, learning_rate, min_samples_split,\n",
        "                 min_var_red, max_depth, regression=True)\n"
      ]
    },
    {
      "cell_type": "markdown",
      "metadata": {
        "id": "kgFskYHwKH_o"
      },
      "source": [
        "### Model fitting and evaluation\n",
        "Please use the below cells to train and evaluate your model on the test data."
      ]
    },
    {
      "cell_type": "code",
      "execution_count": null,
      "metadata": {
        "colab": {
          "base_uri": "https://localhost:8080/"
        },
        "id": "XoOIh0dj6HkE",
        "outputId": "f64cb524-3a98-4df9-fa87-9579a63b89d2"
      },
      "outputs": [
        {
          "output_type": "stream",
          "name": "stdout",
          "text": [
            "MyGradient RMSE: 48817.5010503085\n",
            "MyGradient Training Time: 12.944455862045288 seconds\n"
          ]
        }
      ],
      "source": [
        "import pandas as pd\n",
        "from sklearn.model_selection import train_test_split\n",
        "from sklearn.metrics import mean_squared_error\n",
        "import numpy as np\n",
        "import time\n",
        "\n",
        "# load the data from the CSV file\n",
        "train_data = pd.read_csv(\"/content/sample_data/california_housing_train.csv\")\n",
        "test_data = pd.read_csv(\"/content/sample_data/california_housing_test.csv\")\n",
        "\n",
        "# seperate features and target\n",
        "X_train = train_data.drop('median_house_value', axis=1)\n",
        "y_train = train_data['median_house_value']\n",
        "\n",
        "X_test = test_data.drop('median_house_value', axis=1)\n",
        "y_test = test_data['median_house_value']\n",
        "\n",
        "gb_regressor = my_GradientBoostingRegressor(\n",
        "    n_estimators=200,\n",
        "    learning_rate=0.1,\n",
        "    min_samples_split=2,\n",
        "    max_depth=5\n",
        "    )\n",
        "\n",
        "start_time = time.time() # measure training time\n",
        "gb_regressor.fit(X_train, y_train) # fit the model to the TRAINING data\n",
        "end_time = time.time() # measure training time\n",
        "training_time = end_time - start_time # measure training time\n",
        "\n",
        "y_pred = gb_regressor.predict(X_test) # predict on the TESTING data\n",
        "mse = mean_squared_error(y_test, y_pred) # evaluate the model\n",
        "rmse = np.sqrt(mse)\n",
        "\n",
        "print(f\"MyGradient RMSE: {rmse}\")\n",
        "print(f\"MyGradient Training Time: {training_time} seconds\")"
      ]
    },
    {
      "cell_type": "markdown",
      "source": [
        "**Evaluate your regressor using the provided test datasets. Report on the regressor's RMSE:** <br>\n",
        ">MyGradient RMSE: 48817.5010503085<br>\n",
        ">MyGradient Training Time: 12.944455862045288 seconds<br>"
      ],
      "metadata": {
        "id": "gxGmfqnT933T"
      }
    },
    {
      "cell_type": "code",
      "execution_count": null,
      "metadata": {
        "colab": {
          "base_uri": "https://localhost:8080/"
        },
        "id": "-DldcPWm6HkF",
        "outputId": "474bc4b1-c77c-4236-b486-3cd8b88f86ac"
      },
      "outputs": [
        {
          "output_type": "stream",
          "name": "stdout",
          "text": [
            "Sklearn RMSE: 48826.26248144339\n",
            "Sklearn Training Time: 12.576163053512573 seconds\n"
          ]
        }
      ],
      "source": [
        "## SKLEARN\n",
        "from sklearn.ensemble import GradientBoostingRegressor\n",
        "from sklearn.metrics import mean_squared_error\n",
        "import numpy as np\n",
        "import time\n",
        "\n",
        "reg = GradientBoostingRegressor(n_estimators=200, learning_rate=0.1, max_depth=5) # create the model using sklearn library\n",
        "start_time = time.time() # measure training time\n",
        "reg.fit(X_train, y_train) # fit the model to the TRAINING data\n",
        "end_time = time.time() # measure training time\n",
        "sk_training_time = end_time - start_time # measure training time\n",
        "\n",
        "y_pred = reg.predict(X_test) # predict on the TESTING data\n",
        "\n",
        "mse = mean_squared_error(y_test, y_pred)\n",
        "sk_mse = np.sqrt(mse)\n",
        "\n",
        "print(f\"Sklearn RMSE: {sk_mse}\")\n",
        "print(f\"Sklearn Training Time: {sk_training_time} seconds\")"
      ]
    },
    {
      "cell_type": "code",
      "execution_count": null,
      "metadata": {
        "colab": {
          "base_uri": "https://localhost:8080/"
        },
        "id": "jW2daODA6HkF",
        "outputId": "dee8bb46-224b-4cad-dd65-10ad3c731a57"
      },
      "outputs": [
        {
          "output_type": "stream",
          "name": "stdout",
          "text": [
            "Collecting pyspark\n",
            "  Downloading pyspark-3.5.0.tar.gz (316.9 MB)\n",
            "\u001b[2K     \u001b[90m━━━━━━━━━━━━━━━━━━━━━━━━━━━━━━━━━━━━━━━\u001b[0m \u001b[32m316.9/316.9 MB\u001b[0m \u001b[31m4.6 MB/s\u001b[0m eta \u001b[36m0:00:00\u001b[0m\n",
            "\u001b[?25h  Preparing metadata (setup.py) ... \u001b[?25l\u001b[?25hdone\n",
            "Requirement already satisfied: py4j==0.10.9.7 in /usr/local/lib/python3.10/dist-packages (from pyspark) (0.10.9.7)\n",
            "Building wheels for collected packages: pyspark\n",
            "  Building wheel for pyspark (setup.py) ... \u001b[?25l\u001b[?25hdone\n",
            "  Created wheel for pyspark: filename=pyspark-3.5.0-py2.py3-none-any.whl size=317425344 sha256=7788bb9ad83e25dfd1871849886ccc82a68a5ccc4cf5fd54fdd5f855f856c483\n",
            "  Stored in directory: /root/.cache/pip/wheels/41/4e/10/c2cf2467f71c678cfc8a6b9ac9241e5e44a01940da8fbb17fc\n",
            "Successfully built pyspark\n",
            "Installing collected packages: pyspark\n",
            "Successfully installed pyspark-3.5.0\n"
          ]
        }
      ],
      "source": [
        "!pip3 install pyspark"
      ]
    },
    {
      "cell_type": "code",
      "execution_count": null,
      "metadata": {
        "id": "8eUgWE_n6HkF",
        "colab": {
          "base_uri": "https://localhost:8080/"
        },
        "outputId": "31af7bc4-87bb-4973-c511-a78b57912214"
      },
      "outputs": [
        {
          "output_type": "stream",
          "name": "stdout",
          "text": [
            "Spark RMSE: 51013.17222660766\n",
            "Spark Training Time: 145.39689230918884 seconds\n"
          ]
        }
      ],
      "source": [
        "## SPARK GRADIENT BOOSTED TREE\n",
        "import pyspark\n",
        "from pyspark.sql import *\n",
        "from pyspark.sql.types import *\n",
        "from pyspark.sql.functions import *\n",
        "from pyspark import SparkContext, SparkConf\n",
        "\n",
        "\n",
        "from pyspark.ml.regression import GBTRegressor\n",
        "from pyspark.ml.feature import VectorAssembler\n",
        "from pyspark.ml.evaluation import RegressionEvaluator\n",
        "from pyspark.ml import Pipeline\n",
        "\n",
        "import time\n",
        "\n",
        "# create the session\n",
        "conf = SparkConf().set(\"spark.ui.port\", \"4050\")\n",
        "\n",
        "# create the context\n",
        "sc = pyspark.SparkContext(conf=conf)\n",
        "spark = SparkSession.builder.getOrCreate()\n",
        "\n",
        "# load the data\n",
        "train_data = spark.read.csv(\"/content/sample_data/california_housing_train.csv\", header=True, inferSchema=True)\n",
        "test_data = spark.read.csv(\"/content/sample_data/california_housing_test.csv\", header=True, inferSchema=True)\n",
        "\n",
        "\n",
        "# seperate the features and target column names\n",
        "feature_columns = [col for col in train_data.columns if col != \"median_house_value\"]\n",
        "target_column = \"median_house_value\"\n",
        "\n",
        "# all the feature columns -> a single feature vector column\n",
        "assembler = VectorAssembler(\n",
        "    inputCols=feature_columns,\n",
        "    outputCol=\"features\"\n",
        ")\n",
        "\n",
        "# GBTRegressor\n",
        "gbt = GBTRegressor(\n",
        "    featuresCol=\"features\",\n",
        "    labelCol=target_column,\n",
        "    maxIter=200,\n",
        "    maxDepth=5,\n",
        "    stepSize=0.1,\n",
        "    seed=42\n",
        ")\n",
        "\n",
        "# Create a pipeline that assembles the features and then trains a Gradient Boosted Tree model\n",
        "pipeline = Pipeline(stages=[assembler, gbt])\n",
        "\n",
        "start_time = time.time() # measure training time\n",
        "model = pipeline.fit(train_data) # fit the pipeline to TRAINING data\n",
        "end_time = time.time() # measure training time\n",
        "spk_training_time = end_time - start_time # measure training time\n",
        "\n",
        "# prediction on TESTING data\n",
        "predictions = model.transform(test_data)\n",
        "\n",
        "# evaluate\n",
        "evaluator = RegressionEvaluator(\n",
        "    labelCol=target_column,\n",
        "    predictionCol=\"prediction\",\n",
        "    metricName=\"rmse\"\n",
        ")\n",
        "\n",
        "spk_rmse = evaluator.evaluate(predictions)\n",
        "print(f\"Spark RMSE: {spk_rmse}\")\n",
        "print(f\"Spark Training Time: {spk_training_time} seconds\")"
      ]
    },
    {
      "cell_type": "code",
      "source": [
        "spark.stop()"
      ],
      "metadata": {
        "id": "LwVvvcYyrHfQ"
      },
      "execution_count": null,
      "outputs": []
    },
    {
      "cell_type": "markdown",
      "source": [
        "**Compare both the evaluation metrics and model training time:** <br> <br>\n",
        "\n",
        "> MyGradient RMSE: 48817.5010503085 <br>\n",
        "> MyGradient Training Time: 12.944455862045288 seconds\n",
        "\n",
        "> Sklearn RMSE: 48826.26248144339 <br>\n",
        "> Sklearn Training Time: 12.576163053512573 seconds\n",
        "\n",
        "> Spark RMSE: 51013.17222660766<br>\n",
        "> Spark Training Time: 145.39689230918884 seconds<br>"
      ],
      "metadata": {
        "id": "DEw8su2lILPV"
      }
    },
    {
      "cell_type": "markdown",
      "metadata": {
        "id": "2vUMXtMx4zBc"
      },
      "source": [
        "## Q2 - Autoencoder\n",
        "Complete below code. Please do not change class and function names. You may create additional functions or define additional parameters."
      ]
    },
    {
      "cell_type": "markdown",
      "metadata": {
        "id": "IUfY5u16JJ0j"
      },
      "source": [
        "### Data"
      ]
    },
    {
      "cell_type": "code",
      "execution_count": 71,
      "metadata": {
        "id": "QTbdqOI8JPDW"
      },
      "outputs": [],
      "source": [
        "import torch\n",
        "from torch import nn\n",
        "from torch.utils.data import DataLoader\n",
        "from torchvision import datasets\n",
        "from torchvision.transforms import ToTensor\n",
        "\n",
        "# datasets\n",
        "minist_training_data = datasets.MNIST(\n",
        "    root=\"data\",\n",
        "    train=True,\n",
        "    download=True,\n",
        "    transform=ToTensor(),\n",
        ")\n",
        "\n",
        "minist_test_data = datasets.MNIST(\n",
        "    root=\"data\",\n",
        "    train=False,\n",
        "    download=True,\n",
        "    transform=ToTensor(),\n",
        ")\n",
        "\n",
        "# dataloader\n",
        "batch_size = 100\n",
        "\n",
        "train_loader = DataLoader(dataset=minist_training_data,shuffle=True,batch_size=batch_size)\n",
        "test_loader = DataLoader(dataset=minist_test_data,shuffle=True,batch_size=batch_size)"
      ]
    },
    {
      "cell_type": "code",
      "execution_count": 72,
      "metadata": {
        "id": "fayvTVhB5V36"
      },
      "outputs": [],
      "source": [
        "import torch\n",
        "from torch import nn\n",
        "\n",
        "class my_AutoEncoder(nn.Module):\n",
        "    def __init__(self, latent_dim=64):  # pass 'latent_dim' as a parameter, default 64\n",
        "        super(my_AutoEncoder, self).__init__()\n",
        "\n",
        "        self.latent_dim = latent_dim\n",
        "\n",
        "        self.encoder = self.build_encoder()\n",
        "        self.decoder = self.build_decoder()\n",
        "\n",
        "        # ADDITIONAL PARAMETERS\n",
        "\n",
        "    def build_encoder(self):\n",
        "        encoder = nn.Sequential(\n",
        "            nn.Linear(28 * 28, 512),  # Input -> H1\n",
        "            nn.ReLU(),\n",
        "            nn.Linear(512, 128),      # H1 -> H2\n",
        "            nn.ReLU(),\n",
        "            nn.Linear(128, self.latent_dim) # H2 -> Output\n",
        "        )\n",
        "        return encoder\n",
        "\n",
        "    def build_decoder(self):\n",
        "        decoder = nn.Sequential(\n",
        "            nn.Linear(self.latent_dim, 128),\n",
        "            nn.ReLU(),\n",
        "            nn.Linear(128, 512),\n",
        "            nn.ReLU(),\n",
        "            nn.Linear(512, 784),\n",
        "            nn.Sigmoid()\n",
        "        )\n",
        "        return decoder\n",
        "\n",
        "    def forward(self, x):\n",
        "        return self.decoder(self.encoder(x))\n",
        "\n",
        "    def train(self, n_epochs=5, save_interval=100):\n",
        "        criterion = nn.MSELoss()  # MSE loss\n",
        "        optimizer = torch.optim.Adam(self.parameters(), lr=0.001)  # Adam Optimizer\n",
        "\n",
        "        # init lists to store output and loss\n",
        "        output = []\n",
        "        loss_list = []\n",
        "\n",
        "        for epoch in range(n_epochs):\n",
        "            for i, (batch_features, _) in enumerate(train_loader):\n",
        "                batch_features = batch_features.view(-1, 28 * 28)  # flat the image\n",
        "\n",
        "                optimizer.zero_grad()  # zero the gradients; make sure no gradients are accumulated\n",
        "\n",
        "                outputs = self(batch_features)  # forward pass\n",
        "                loss = criterion(outputs, batch_features)  # calculate the loss\n",
        "                loss.backward()  # back pass\n",
        "                optimizer.step()  # update the weights\n",
        "\n",
        "                if i % save_interval == 0:\n",
        "                  output.append(outputs) # store the output\n",
        "                  loss_list.append(loss.item())  # store the loss\n",
        "\n",
        "        return output, loss_list"
      ]
    },
    {
      "cell_type": "markdown",
      "metadata": {
        "id": "kCT2U7hdWDKt"
      },
      "source": [
        "####Q2 - a)"
      ]
    },
    {
      "cell_type": "code",
      "execution_count": 67,
      "metadata": {
        "id": "82Fuww6R6_Yy",
        "colab": {
          "base_uri": "https://localhost:8080/"
        },
        "outputId": "cdb622da-4dcd-49d0-f62d-3c3691223055"
      },
      "outputs": [
        {
          "output_type": "stream",
          "name": "stdout",
          "text": [
            "final MSE: 0.01025670301169157\n"
          ]
        }
      ],
      "source": [
        "# DO NOT CHANGE this cell, this cell should run to train your autoencoder\n",
        "my_ae = my_AutoEncoder()\n",
        "outputs, losses = my_ae.train()\n",
        "print(f\"final MSE: {losses[-1]}\")"
      ]
    },
    {
      "cell_type": "code",
      "execution_count": 69,
      "metadata": {
        "id": "kFr4COnzV5W3",
        "colab": {
          "base_uri": "https://localhost:8080/",
          "height": 496
        },
        "outputId": "c5d1d52d-f51e-4245-db3e-4596da8d133b"
      },
      "outputs": [
        {
          "output_type": "execute_result",
          "data": {
            "text/plain": [
              "[<matplotlib.lines.Line2D at 0x7bca87868a30>]"
            ]
          },
          "metadata": {},
          "execution_count": 69
        },
        {
          "output_type": "display_data",
          "data": {
            "text/plain": [
              "<Figure size 640x480 with 1 Axes>"
            ],
            "image/png": "[encoded data removed]"
          },
          "metadata": {}
        }
      ],
      "source": [
        "# Vizualize your training loss\n",
        "import matplotlib.pyplot as plt\n",
        "%matplotlib inline\n",
        "\n",
        "# Defining the Plot Style\n",
        "plt.style.use('fivethirtyeight')\n",
        "plt.xlabel('Iterations')\n",
        "plt.ylabel('Loss')\n",
        "\n",
        "# Plotting the last 100 values\n",
        "plt.plot(losses)"
      ]
    },
    {
      "cell_type": "markdown",
      "metadata": {
        "id": "da323xIELBJj"
      },
      "source": [
        "Please complete the written answer in the below text box."
      ]
    },
    {
      "cell_type": "markdown",
      "metadata": {
        "id": "RW7jVQseWNuT"
      },
      "source": [
        "**Report on the final MSE:** <br>\n",
        "> final MSE: 0.01025670301169157"
      ]
    },
    {
      "cell_type": "markdown",
      "metadata": {
        "id": "TLq6MvIUWUsE"
      },
      "source": [
        "####Q2 - b)"
      ]
    },
    {
      "cell_type": "code",
      "execution_count": 73,
      "metadata": {
        "id": "wdy_UZ5dWM-b"
      },
      "outputs": [],
      "source": [
        "# YOUR CODE for extracting the latent representations for completing Q2 - b)\n",
        "\n",
        "# pass through the encoder to extract the latent representations\n",
        "latent_rep = my_ae.encoder(minist_test_data.data.view(-1, 28 * 28).float())"
      ]
    },
    {
      "cell_type": "code",
      "execution_count": 74,
      "metadata": {
        "id": "XLATj218WcQO",
        "colab": {
          "base_uri": "https://localhost:8080/"
        },
        "outputId": "e212f26d-6610-47ec-824d-c743192619f1"
      },
      "outputs": [
        {
          "output_type": "stream",
          "name": "stdout",
          "text": [
            "Accuracy of the model is: 0.8861\n",
            "F1 score of the model is: 0.8844296143031871\n",
            "Time Taken: 0.24364256858825684\n"
          ]
        }
      ],
      "source": [
        "from sklearn.ensemble import RandomForestClassifier\n",
        "from sklearn.metrics import f1_score\n",
        "from sklearn.metrics import accuracy_score\n",
        "import time\n",
        "\n",
        "sk_clf = RandomForestClassifier(n_estimators = 20, max_features = 20,\n",
        "                   min_samples_split = 2, min_impurity_decrease = 0,\n",
        "                   max_depth = None, max_samples = 0.05)\n",
        "\n",
        "# YOUR CODE for training the random forest model on the latent representations\n",
        "start_time = time.time()\n",
        "sk_clf.fit(latent_rep.detach().numpy(), minist_test_data.targets) # convert the torch latent representations into a NumPy array to pass into sklearn\n",
        "end_time = time.time()\n",
        "\n",
        "# accuracy\n",
        "y_pred = sk_clf.predict(latent_rep.detach().numpy())\n",
        "accuracy = accuracy_score(minist_test_data.targets, y_pred)\n",
        "print(f\"Accuracy of the model is: {accuracy}\")\n",
        "\n",
        "# f1 score\n",
        "f1_score = f1_score(minist_test_data.targets, y_pred, average='macro')\n",
        "print(f\"F1 score of the model is: {f1_score}\")\n",
        "\n",
        "print(f\"Time Taken: {end_time - start_time}\")"
      ]
    },
    {
      "cell_type": "markdown",
      "metadata": {
        "id": "NN4BJYERXCEn"
      },
      "source": [
        "**Report Accuracy score and F1 Score:** <br>\n",
        "> Accuracy of the model is: 0.8861 <br>\n",
        "> F1 score of the model is: 0.8844296143031871 <br>\n",
        "\n",
        "**How does this random forest model compare to the random forest models we have seen during the lab? Provide a short explanation of why you think it performs better or worse (no more than 5 sentences). Write your answers the provided text box.**\n",
        "\n",
        "> The random forest model in the lab was trained on the original data, which includes a complete set of information from the images. In contrast, the code above trains the model on latent representations of the data, which capture essential features and patterns while removing some of the fine-grained details. This led to significantly faster training times for the code above, approximately 0.3 seconds, compared to the lab's model, which took around 3 seconds. Also, the accuracy of this model exceeded that of the lab's model (0.88 vs. 0.78). This demonstrates the effectiveness of the latent representation extraction, as it emphasized important features while reducing noise, resulting in improved accuracy for the model trained on latent data representations."
      ]
    },
    {
      "cell_type": "markdown",
      "metadata": {
        "id": "BfAipudDXJuk"
      },
      "source": []
    },
    {
      "cell_type": "markdown",
      "metadata": {
        "id": "WVgqHpoJXNCj"
      },
      "source": [
        "#### Q2 - c)"
      ]
    },
    {
      "cell_type": "code",
      "execution_count": 77,
      "metadata": {
        "id": "PxqXUBIeXMk6",
        "colab": {
          "base_uri": "https://localhost:8080/",
          "height": 639
        },
        "outputId": "789c4805-a660-4066-cd27-9786dc916039"
      },
      "outputs": [
        {
          "output_type": "stream",
          "name": "stdout",
          "text": [
            "final MSE for latent_dim_32: 0.009430767968297005\n",
            "Accuracy of the model with latent_dim 32 is: 0.8735\n",
            "Time Taken for latent_dim 32: 0.23348760604858398\n",
            "final MSE for latent_dim_16: 0.011876149103045464\n",
            "Accuracy of the model with latent_dim 16 is: 0.8581\n",
            "Time Taken for latent_dim 16: 0.18902945518493652\n",
            "final MSE for latent_dim_8: 0.018026145175099373\n",
            "Accuracy of the model with latent_dim 8 is: 0.8919\n",
            "Time Taken for latent_dim 8: 0.12179851531982422\n"
          ]
        },
        {
          "output_type": "display_data",
          "data": {
            "text/plain": [
              "<Figure size 640x480 with 1 Axes>"
            ],
            "image/png": "[encoded data removed]"
          },
          "metadata": {}
        }
      ],
      "source": [
        "# YOUR CODE for changing latent space dimensions and retraining your autoencoder.\n",
        "# Retrain your autoencoder with three different latent space dimensions and compare the performance of the different models.\n",
        "\n",
        "import time\n",
        "\n",
        "## ================== 1 ================== ##\n",
        "# change the latent space dimensions\n",
        "my_ae = my_AutoEncoder(latent_dim=32)\n",
        "outputs, losses = my_ae.train()\n",
        "\n",
        "# plot loss\n",
        "plt.style.use('bmh')\n",
        "plt.xlabel('Iterations')\n",
        "plt.ylabel('Loss')\n",
        "plt.plot(losses, label='latent_dim_32')\n",
        "print(f\"final MSE for latent_dim_32: {losses[-1]}\")\n",
        "\n",
        "# extract the latent representations\n",
        "latent_rep = my_ae.encoder(minist_test_data.data.view(-1, 28 * 28).float())\n",
        "# print(latent_rep.shape)\n",
        "# train and predict random forest model on the latent representations\n",
        "start_time = time.time()\n",
        "sk_clf.fit(latent_rep.detach().numpy(), minist_test_data.targets)\n",
        "end_time = time.time()\n",
        "y_pred = sk_clf.predict(latent_rep.detach().numpy())\n",
        "\n",
        "# evaluate\n",
        "accuracy = accuracy_score(minist_test_data.targets, y_pred)\n",
        "print(f\"Accuracy of the model with latent_dim 32 is: {accuracy}\")\n",
        "print(f\"Time Taken for latent_dim 32: {end_time-start_time}\")\n",
        "\n",
        "## ================== 2 ================== ##\n",
        "# change the latent space dimensions\n",
        "my_ae = my_AutoEncoder(latent_dim=16)\n",
        "outputs, losses = my_ae.train() # retrain\n",
        "\n",
        "# plot loss\n",
        "plt.style.use('bmh')\n",
        "plt.xlabel('Iterations')\n",
        "plt.ylabel('Loss')\n",
        "plt.plot(losses, label='latent_dim_16')\n",
        "print(f\"final MSE for latent_dim_16: {losses[-1]}\")\n",
        "\n",
        "# extract the latent representations\n",
        "latent_rep = my_ae.encoder(minist_test_data.data.view(-1, 28 * 28).float())\n",
        "# print(latent_rep.shape)\n",
        "# train and predict random forest model on the latent representations\n",
        "start_time = time.time()\n",
        "sk_clf.fit(latent_rep.detach().numpy(), minist_test_data.targets)\n",
        "end_time = time.time()\n",
        "y_pred = sk_clf.predict(latent_rep.detach().numpy())\n",
        "\n",
        "# evaluate\n",
        "accuracy = accuracy_score(minist_test_data.targets, y_pred)\n",
        "print(f\"Accuracy of the model with latent_dim 16 is: {accuracy}\")\n",
        "\n",
        "print(f\"Time Taken for latent_dim 16: {end_time-start_time}\")\n",
        "\n",
        "## ================== 3 ================== ##\n",
        "# change the latent space dimensions\n",
        "my_ae = my_AutoEncoder(latent_dim=8)\n",
        "outputs, losses = my_ae.train() # retrain\n",
        "\n",
        "# plot loss\n",
        "plt.style.use('bmh')\n",
        "plt.xlabel('Iterations')\n",
        "plt.ylabel('Loss')\n",
        "plt.plot(losses, label='latent_dim_8')\n",
        "print(f\"final MSE for latent_dim_8: {losses[-1]}\")\n",
        "\n",
        "# extract the latent representations\n",
        "latent_rep = my_ae.encoder(minist_test_data.data.view(-1, 28 * 28).float())\n",
        "# print(latent_rep.shape)\n",
        "# train and predict random forest model on the latent representations\n",
        "start_time = time.time()\n",
        "sk_clf.fit(latent_rep.detach().numpy(), minist_test_data.targets)\n",
        "end_time = time.time()\n",
        "y_pred = sk_clf.predict(latent_rep.detach().numpy())\n",
        "\n",
        "# accuracy\n",
        "accuracy = accuracy_score(minist_test_data.targets, y_pred)\n",
        "print(f\"Accuracy of the model with latent_dim 8 is: {accuracy}\")\n",
        "print(f\"Time Taken for latent_dim 8: {end_time-start_time}\")"
      ]
    },
    {
      "cell_type": "markdown",
      "metadata": {
        "id": "dxgJtmZSXZhg"
      },
      "source": [
        "Please complete the written answer in the below text box."
      ]
    },
    {
      "cell_type": "markdown",
      "metadata": {
        "id": "tE2-U8QvXaoV"
      },
      "source": [
        "**Retrain your autoencoder with three different latent space dimensions and compare the performance of the different models.**\n",
        "\n",
        "> 1. Latent Dim: 32 <br>\n",
        "> final MSE for latent_dim_32: 0.009430767968297005 <br>\n",
        "> Accuracy of the model with latent_dim 32 is: 0.8735 <br>\n",
        ">\n",
        "> 2. Latent Dim: 16 <br>\n",
        "> final MSE for latent_dim_16: 0.011876149103045464 <br>\n",
        "> Accuracy of the model with latent_dim 16 is: 0.8581 <br>\n",
        ">\n",
        "> 3. Latent Dim: 8 <br>\n",
        "> final MSE for latent_dim_8: 0.018026145175099373 <br>\n",
        ">Accuracy of the model with latent_dim 8 is: 0.8919 <br>\n",
        ">\n",
        "> It is apparent that smaller the latent representation dimension is the faster the training is. <br>\n",
        "> Unlike comparing full information data trained model vs. latent representation data trained model, like in 2b, it is intuitive to expect that reducing the latent dimensions more and more will cause more loss in information and, consequently, the performance will drop. This is the observation we see between latent representation dimensions of 32 and 16.\n",
        ">\n",
        ">However, this is not the case when comparing to latent representations of dimension 8. It's interesting to see that the model with a latent dimension of 8 outperforms the one with a latent dimension of 32 and 16 in terms of accuracy. In this case, a smaller latent dimension seemed to have pushed the model to learn more useful and concise data representations. This resulted in better feature extraction, effectively filtering out the noise, and helping the model capture the important patterns more efficiently. As a result, the model achieved higher accuracy. A smaller latent dimension worked well for this task.\n",
        ">\n",
        ">This shows the importance of finetuning hyperparameters to optimize performance for a specific dataset and task."
      ]
    },
    {
      "cell_type": "code",
      "execution_count": null,
      "metadata": {
        "id": "D81jUKGZXaH2"
      },
      "outputs": [],
      "source": []
    },
    {
      "cell_type": "code",
      "execution_count": null,
      "metadata": {
        "id": "MVJAYzFDXBvc"
      },
      "outputs": [],
      "source": []
    }
  ],
  "metadata": {
    "colab": {
      "provenance": []
    },
    "kernelspec": {
      "display_name": "Python 3",
      "name": "python3"
    },
    "language_info": {
      "codemirror_mode": {
        "name": "ipython",
        "version": 3
      },
      "file_extension": ".py",
      "mimetype": "text/x-python",
      "name": "python",
      "nbconvert_exporter": "python",
      "pygments_lexer": "ipython3",
      "version": "3.9.6"
    }
  },
  "nbformat": 4,
  "nbformat_minor": 0
}